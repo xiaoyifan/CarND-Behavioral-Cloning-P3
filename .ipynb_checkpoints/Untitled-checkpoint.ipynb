{
 "cells": [
  {
   "cell_type": "code",
   "execution_count": 1,
   "id": "6b603cfd",
   "metadata": {},
   "outputs": [],
   "source": [
    "import csv\n",
    "import cv2\n",
    "import numpy as np\n",
    "import scipy\n",
    "import keras\n",
    "from keras.models import Sequential\n",
    "from keras.layers import Flatten, Dense, Conv2D, Activation, MaxPooling2D, Dropout, Lambda, Cropping2D"
   ]
  },
  {
   "cell_type": "code",
   "execution_count": 2,
   "id": "2aacad53",
   "metadata": {},
   "outputs": [],
   "source": [
    "def resize(image, new_dim):\n",
    "    return cv2.resize(image, new_dim, interpolation = cv2.INTER_AREA)\n",
    "\n",
    "def crop(image, top_pixels, bottom_pixel):\n",
    "    top = top_pixels\n",
    "    bottom = image.shape[0] - bottom_pixel\n",
    "\n",
    "    return image[top:bottom, :]\n",
    "\n",
    "def preprocess_image(image_path):\n",
    "    center_name = image_path.split('/')[-1]\n",
    "    current_image_path = './driving_data_2/IMG/' + center_name\n",
    "    img = cv2.imread(current_image_path)\n",
    "    cropped_image = crop(img, 50, 20)\n",
    "    resized_image = resize(cropped_image, (64, 64))\n",
    "    resized_image = (resized_image / 255.0) - 0.5\n",
    "    return resized_image"
   ]
  },
  {
   "cell_type": "code",
   "execution_count": null,
   "id": "7887efc1",
   "metadata": {},
   "outputs": [],
   "source": [
    "with open('./driving_data_2/driving_log.csv') as csvfile:\n",
    "    reader = csv.reader(csvfile)\n",
    "    first_line = True\n",
    "    count = False\n",
    "    for row in reader:\n",
    "        if first_line:\n",
    "            first_line = False   \n",
    "        else if count == False:\n",
    "            count = True\n",
    "            steering_center = float(row[3])\n",
    "            img_center = preprocess_image(row[0])\n",
    "            "
   ]
  },
  {
   "cell_type": "code",
   "execution_count": null,
   "id": "4ed94fbd",
   "metadata": {},
   "outputs": [],
   "source": [
    "car_images = []\n",
    "steering_angles = []\n",
    "with open('./driving_data_2/driving_log.csv') as csvfile:\n",
    "    reader = csv.reader(csvfile)\n",
    "    first_line = True\n",
    "    for row in reader:\n",
    "        if first_line:\n",
    "            first_line = False   \n",
    "        else:\n",
    "            steering_center = float(row[3])\n",
    "            img_center = preprocess_image(row[0])"
   ]
  },
  {
   "cell_type": "code",
   "execution_count": null,
   "id": "3578c1ac",
   "metadata": {},
   "outputs": [],
   "source": []
  }
 ],
 "metadata": {
  "kernelspec": {
   "display_name": "Python 3",
   "language": "python",
   "name": "python3"
  },
  "language_info": {
   "codemirror_mode": {
    "name": "ipython",
    "version": 3
   },
   "file_extension": ".py",
   "mimetype": "text/x-python",
   "name": "python",
   "nbconvert_exporter": "python",
   "pygments_lexer": "ipython3",
   "version": "3.6.13"
  }
 },
 "nbformat": 4,
 "nbformat_minor": 5
}
