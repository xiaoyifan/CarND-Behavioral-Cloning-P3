{
 "cells": [
  {
   "cell_type": "code",
   "execution_count": 8,
   "id": "0489b24a",
   "metadata": {},
   "outputs": [],
   "source": [
    "import csv\n",
    "import cv2\n",
    "import numpy as np\n",
    "import scipy\n",
    "import keras\n",
    "import matplotlib.pyplot as plt\n",
    "from keras.models import Sequential\n",
    "from keras.layers import Flatten, Dense, Conv2D, Activation, MaxPooling2D, Dropout, Lambda, Cropping2D"
   ]
  },
  {
   "cell_type": "code",
   "execution_count": 12,
   "id": "3848fbaf",
   "metadata": {},
   "outputs": [],
   "source": [
    "def resize(image, new_dim):\n",
    "    return cv2.resize(image, new_dim, interpolation = cv2.INTER_AREA)\n",
    "\n",
    "def crop(image, top_pixels, bottom_pixel):\n",
    "    top = top_pixels\n",
    "    bottom = image.shape[0] - bottom_pixel\n",
    "\n",
    "    return image[top:bottom, :]\n",
    "\n",
    "def preprocess_image(image_path):\n",
    "    center_name = image_path.split('/')[-1]\n",
    "    current_image_path = './new_data_combined/IMG/' + center_name\n",
    "    img = cv2.imread(current_image_path)\n",
    "    \n",
    "    cropped_image = crop(img, 50, 20)\n",
    "    plt.imshow(cropped_image)\n",
    "    resized_image = resize(cropped_image, (64, 64))\n",
    "    plt.imshow(resized_image)\n",
    "    resized_image = (resized_image / 255.0) - 0.5\n",
    "    return resized_image"
   ]
  },
  {
   "cell_type": "code",
   "execution_count": 22,
   "id": "f162ca13",
   "metadata": {},
   "outputs": [],
   "source": [
    "with open('./new_data_combined/driving_log.csv') as csvfile:\n",
    "    reader = csv.reader(csvfile)\n",
    "    first_line = True\n",
    "    steering_list = []\n",
    "    for row in reader:\n",
    "        if first_line:\n",
    "            first_line = False   \n",
    "        else:\n",
    "            steering_list.append(float(row[3]))\n",
    "            "
   ]
  },
  {
   "cell_type": "code",
   "execution_count": 28,
   "id": "39bcd9cb",
   "metadata": {},
   "outputs": [
    {
     "data": {
      "text/plain": [
       "(array([ 291.,   54.,   42.,  151.,  133.,  195.,  325.,  530.,  643.,\n",
       "         297., 8858.,  359.,  268.,  216.,   74.,  134.,  143.,   46.,\n",
       "          65.,  242.]),\n",
       " array([-1. , -0.9, -0.8, -0.7, -0.6, -0.5, -0.4, -0.3, -0.2, -0.1,  0. ,\n",
       "         0.1,  0.2,  0.3,  0.4,  0.5,  0.6,  0.7,  0.8,  0.9,  1. ]),\n",
       " <BarContainer object of 20 artists>)"
      ]
     },
     "execution_count": 28,
     "metadata": {},
     "output_type": "execute_result"
    },
    {
     "data": {
      "image/png": "[encoded data removed]",
      "text/plain": [
       "<Figure size 432x288 with 1 Axes>"
      ]
     },
     "metadata": {
      "needs_background": "light"
     },
     "output_type": "display_data"
    }
   ],
   "source": [
    "n_bins = 20\n",
    "\n",
    "# We can set the number of bins with the `bins` kwarg\n",
    "plt.hist(steering_list, bins=n_bins)"
   ]
  },
  {
   "cell_type": "code",
   "execution_count": null,
   "id": "269877ca",
   "metadata": {},
   "outputs": [],
   "source": [
    "car_images = []\n",
    "steering_angles = []\n",
    "with open('./driving_data_2/driving_log.csv') as csvfile:\n",
    "    reader = csv.reader(csvfile)\n",
    "    first_line = True\n",
    "    for row in reader:\n",
    "        if first_line:\n",
    "            first_line = False   \n",
    "        else:\n",
    "            steering_center = float(row[3])\n",
    "            img_center = preprocess_image(row[0])"
   ]
  },
  {
   "cell_type": "code",
   "execution_count": null,
   "id": "bb1700be",
   "metadata": {},
   "outputs": [],
   "source": []
  }
 ],
 "metadata": {
  "kernelspec": {
   "display_name": "Python 3",
   "language": "python",
   "name": "python3"
  },
  "language_info": {
   "codemirror_mode": {
    "name": "ipython",
    "version": 3
   },
   "file_extension": ".py",
   "mimetype": "text/x-python",
   "name": "python",
   "nbconvert_exporter": "python",
   "pygments_lexer": "ipython3",
   "version": "3.6.13"
  }
 },
 "nbformat": 4,
 "nbformat_minor": 5
}
